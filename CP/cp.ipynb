{
 "cells": [
  {
   "cell_type": "markdown",
   "metadata": {
    "id": "KVCCxZXP6YVz"
   },
   "source": [
    "# Курсовая работа\n",
    "## 10 вариант: Вычисление несобственных интегралов численными методами"
   ]
  },
  {
   "cell_type": "markdown",
   "metadata": {
    "id": "9J_2f7b56YV0"
   },
   "source": [
    "Определённый интеграл называется собственным, если выполняется по крайней мере одно из следующих условий:\n",
    "\n",
    "1. Область интегрирования является бесконечной - интеграл 1 рода.\n",
    "\n",
    "2. Подынтегральная функция является неограниченной в окрестности некоторых точек области интегрирования - интеграл 2 рода.\n",
    "\n",
    "Несобственный интеграл 2 рода можно свести к интегралу 1 рода с помощью замены переменной. Поэтому будем рассматривать только несобственные интегралы 1 рода."
   ]
  },
  {
   "cell_type": "markdown",
   "metadata": {
    "id": "wbw2w1mb6YV1"
   },
   "source": [
    "### 1. Сведение к определённому интегралу\n",
    "\n",
    "$\\ \\ $Рассмотрим преобразование из математического анализа, выполненное с помощью замены переменной:\n",
    "\n",
    "$\n",
    "\\int_a^b f(x)dx = \\int_{\\frac{1}{a}}^{\\frac{1}{b}} \\frac{1}{t^2}f(\\frac{1}{t})dt \\quad при \\ ab > 0\n",
    "$<br>\n",
    "\n",
    "$\\ \\ $Можем разложить несобственный интеграл на сумму интегралов.\n",
    "\n",
    "$\n",
    "\\int_{-∞}^{+∞} f(x)dx = \\int_{-∞}^{-A} f(x)dx + \\int_{-A}^{B} f(x)dx + \\int_{B}^{+∞} f(x)dx \\quad при \\ {-A} < 0 \\ и \\ B > 0\n",
    "$<br>\n",
    "\n",
    "$\\ \\ $Первый и последний интегралы можем преобразовать с помощью формулы выше. Так мы можем посчитать каждый из этих трёх интегралов (например, методов прямоугольников) и сложить получившиеся результаты."
   ]
  },
  {
   "cell_type": "markdown",
   "metadata": {
    "id": "h2cI8fur6YV1"
   },
   "source": [
    "### 2. Предельный переход\n",
    "\n",
    "$\\ \\ $Запишем предельный переход для несобственного интеграла 1 рода:\n",
    "\n",
    "$\n",
    "\\int_a^{+∞} f(x)dx = \\lim_{b \\to \\infty} \\int_a^b f(x)dx\n",
    "$\n",
    "\n",
    "$\\ \\ $Будем вычислять правый интеграл (например, методом прямоугольников) до тех пор, пока следующее слагаемое не станет меньше заданного эпсилон"
   ]
  },
  {
   "cell_type": "code",
   "execution_count": 75,
   "metadata": {
    "id": "GNMolC1G6YV1"
   },
   "outputs": [],
   "source": [
    "import math"
   ]
  },
  {
   "cell_type": "code",
   "execution_count": 76,
   "metadata": {
    "id": "SEFUCSOl6YV2"
   },
   "outputs": [],
   "source": [
    "INF = 1e10"
   ]
  },
  {
   "cell_type": "code",
   "execution_count": 77,
   "metadata": {
    "id": "9jlOgNHs6YV2"
   },
   "outputs": [],
   "source": [
    "# Функция интегрирования\n",
    "def f(x):\n",
    "    return 1 / (1 + x**2)"
   ]
  },
  {
   "cell_type": "code",
   "execution_count": 78,
   "metadata": {
    "id": "y14I1Vrp6YV2"
   },
   "outputs": [],
   "source": [
    "# Высчитываем интеграл f(x)dx на интервале [l; r] используя метод левых прямоугольников с шагом=h\n",
    "def integrate_rectangle_left_method(f, l, r, h):\n",
    "    n = int((r - l) / h)\n",
    "    s = 0\n",
    "    for i in range(n):\n",
    "        s += h * f(l + h * i)\n",
    "    return s"
   ]
  },
  {
   "cell_type": "code",
   "execution_count": 79,
   "metadata": {
    "id": "AFMCzZQ96YV3"
   },
   "outputs": [],
   "source": [
    "# Высчитываем интеграл f(x)dx на интервале [l; r] используя метод правых прямоугольников с шагом=h\n",
    "def integrate_rectangle_right_method(f, l, r, h):\n",
    "    n = int((r - l) / h)\n",
    "    s = 0\n",
    "    for i in range(n):\n",
    "        s += h * f(l + h * (i + 1))\n",
    "    return s"
   ]
  },
  {
   "cell_type": "code",
   "execution_count": 80,
   "metadata": {
    "id": "nVhWnWtR6YV3"
   },
   "outputs": [],
   "source": [
    "# Высчитываем интеграл f(x)dx на интервале [l; r] используя метод центральных прямоугольников с шагом=h\n",
    "def integrate_rectangle_method(f, l, r, h):\n",
    "    n = int((r - l) / h)\n",
    "    s = 0\n",
    "    for i in range(n):\n",
    "        s += h * f(l + h * (i + 0.5))\n",
    "\n",
    "    return s"
   ]
  },
  {
   "cell_type": "code",
   "execution_count": 81,
   "metadata": {
    "id": "3oKQR07M6YV3"
   },
   "outputs": [],
   "source": [
    "# Высчитываем интеграл f(x)dx на интервале [l; r] используя метод трапеций с шагом=h\n",
    "def integrate_trapezoid_method(f, l, r, h):\n",
    "    n = int((r - l) / h)\n",
    "    x = [l + i * h for i in range(n + 1)]\n",
    "    s = 0\n",
    "    for i in range(n):\n",
    "        s += h * (f(x[i]) + f(x[i + 1])) / 2\n",
    "    return s"
   ]
  },
  {
   "cell_type": "code",
   "execution_count": 82,
   "metadata": {
    "id": "wvBMaYbj6YV3"
   },
   "outputs": [],
   "source": [
    "# Высчитываем интеграл f(x)dx на интервале [l; r] используя метод парабол (формула Симпсона) с шагом=h\n",
    "def integrate_parabola_method(f, l, r, h):\n",
    "    n = int((r - l) / (h / 2) )\n",
    "\n",
    "    x = [l + i * (h / 2) for i in range(1, n)]\n",
    "\n",
    "    s1, s2 = 0, 0\n",
    "    for i in range(len(x)):\n",
    "        if i % 2:\n",
    "            s1 += f(x[i])\n",
    "        else:\n",
    "            s2 += f(x[i])\n",
    "\n",
    "    return (h / 2) / 3 * (f(l) + 2 * s1 + 4 * s2 + f(r))"
   ]
  },
  {
   "cell_type": "code",
   "execution_count": 83,
   "metadata": {
    "id": "Ycd7iP4o6YV4"
   },
   "outputs": [],
   "source": [
    "# Вычисляем несобственный интеграл (1 типа), преобразуя его в определённый интеграл\n",
    "def integrate_with_definite_integral(integration_method, f, l, r, h=0.01, eps=1e-6):\n",
    "    def f_new(t):\n",
    "        return (1. / t ** 2) * f(1. / t)\n",
    "\n",
    "    result = 0\n",
    "    if r == INF:\n",
    "        new_r = max(eps, l)\n",
    "        result += integration_method(f_new, eps, 1. / new_r - eps, h)\n",
    "    else:\n",
    "        new_r = r\n",
    "    if l == -INF:\n",
    "        new_l = min(-eps, r)\n",
    "        result += integration_method(f_new, 1. / new_l + eps, -eps, h)\n",
    "    else:\n",
    "        new_l = l\n",
    "    if new_l < new_r:\n",
    "        result += integration_method(f, new_l, new_r, h)\n",
    "    return result"
   ]
  },
  {
   "cell_type": "code",
   "execution_count": 84,
   "metadata": {
    "id": "CQrIBXy56YV4"
   },
   "outputs": [],
   "source": [
    "# Вычисляем несобственный интеграл f(x)dx (1 типа), используя предельный переход. Возвращаем: результат интегрирования и количество итераций\n",
    "def integrate_lim(integration_method, f, l, r, h=0.1, eps=1e-6):\n",
    "    result = 0\n",
    "    iters = 0\n",
    "    if r == INF:\n",
    "        finish = False\n",
    "        cur_x = max(l, 0)\n",
    "        while not finish:\n",
    "            iters += 1\n",
    "            diff = integration_method(f, cur_x, cur_x + h + eps, h)\n",
    "            cur_x += h\n",
    "            if abs(diff) < eps:\n",
    "                finish = True\n",
    "            result += diff\n",
    "        result += f(cur_x - h) * (f(cur_x - h) * h / (f(cur_x - h) - f(cur_x))) # Правый треугольник\n",
    "    else:\n",
    "        result += integration_method(f, 0, r, h)\n",
    "    if l == -INF:\n",
    "        finish = False\n",
    "        cur_x = min(0, r)\n",
    "        while not finish:\n",
    "            iters += 1\n",
    "            diff = integration_method(f, cur_x - h - eps, cur_x, h)\n",
    "            cur_x -= h\n",
    "            if abs(diff) < eps:\n",
    "                finish = True\n",
    "            result += diff\n",
    "        result += f(cur_x + h) * (f(cur_x + h) * h / (f(cur_x + h) - f(cur_x))) # Левый треугольник\n",
    "    else:\n",
    "        result += integration_method(f, l, 0, h)\n",
    "    return result, iters"
   ]
  },
  {
   "cell_type": "code",
   "execution_count": 85,
   "metadata": {
    "id": "zp4jhyw86YV4"
   },
   "outputs": [],
   "source": [
    "def CP(a, b, h, eps):\n",
    "    print('Метод центральных прямоугольников:')\n",
    "    print('Преобразование в определённый интеграл')\n",
    "    res_definite = integrate_with_definite_integral(integrate_rectangle_method, f, a, b, h, eps)\n",
    "    print('Интеграл =', res_definite)\n",
    "    print()\n",
    "    print('Метод предельного перехода')\n",
    "    res_limit, iters_limit = integrate_lim(integrate_rectangle_method, f, a, b, h, eps)\n",
    "    print('Интеграл =', res_limit)\n",
    "    print('Количество итераций:', iters_limit)\n",
    "\n",
    "    print()\n",
    "    print('------------------------------------------------------------------------------------')\n",
    "    print()\n",
    "\n",
    "    print('Метод трапеций:')\n",
    "    print('Преобразование в определённый интеграл')\n",
    "    res_definite = integrate_with_definite_integral(integrate_trapezoid_method, f, a, b, h, eps)\n",
    "    print('Интеграл =', res_definite)\n",
    "    print()\n",
    "    print('Метод предельного перехода')\n",
    "    res_limit, iters_limit = integrate_lim(integrate_trapezoid_method, f, a, b, h, eps)\n",
    "    print('Интеграл =', res_limit)\n",
    "    print('Количество итераций:', iters_limit)\n",
    "\n",
    "    print()\n",
    "    print('------------------------------------------------------------------------------------')\n",
    "    print()\n",
    "\n",
    "    print('Метод парабол:')\n",
    "    print('Преобразование в определённый интеграл')\n",
    "    res_definite = integrate_with_definite_integral(integrate_parabola_method, f, a, b, h, eps)\n",
    "    print('Интеграл =', res_definite)\n",
    "    print()\n",
    "    print('Метод предельного перехода')\n",
    "    res_limit, iters_limit = integrate_lim(integrate_parabola_method, f, a, b, h, eps)\n",
    "    print('Интеграл =', res_limit)\n",
    "    print('Количество итераций:', iters_limit)"
   ]
  },
  {
   "cell_type": "markdown",
   "metadata": {
    "id": "53DOjYdS6YV4"
   },
   "source": [
    "## Результат работы программы\n",
    "\n",
    "Будем вычислять следующий интеграл: $\\int_l^r \\frac{1}{1 + x^2}$"
   ]
  },
  {
   "cell_type": "code",
   "execution_count": 86,
   "metadata": {
    "colab": {
     "base_uri": "https://localhost:8080/"
    },
    "id": "h_8HZA8U6YV4",
    "outputId": "fdf27274-cdac-4d88-e858-030ecf1fbfec"
   },
   "outputs": [
    {
     "name": "stdout",
     "output_type": "stream",
     "text": [
      "Метод центральных прямоугольников:\n",
      "Преобразование в определённый интеграл\n",
      "Интеграл = 0.3187496986594376\n",
      "\n",
      "Метод предельного перехода\n",
      "Интеграл = 0.3167518878315057\n",
      "Количество итераций: 9700\n",
      "\n",
      "------------------------------------------------------------------------------------\n",
      "\n",
      "Метод трапеций:\n",
      "Преобразование в определённый интеграл\n",
      "Интеграл = 0.3187429893745884\n",
      "\n",
      "Метод предельного перехода\n",
      "Интеграл = 0.3167531374050679\n",
      "Количество итераций: 9701\n",
      "\n",
      "------------------------------------------------------------------------------------\n",
      "\n",
      "Метод парабол:\n",
      "Преобразование в определённый интеграл\n",
      "Интеграл = 0.31874447307371695\n",
      "\n",
      "Метод предельного перехода\n",
      "Интеграл = 0.31858545455593584\n",
      "Количество итераций: 9700\n"
     ]
    }
   ],
   "source": [
    "l = 3\n",
    "r = INF\n",
    "h = 0.01\n",
    "eps = 1e-6\n",
    "\n",
    "CP(l, r, h, eps)"
   ]
  },
  {
   "cell_type": "code",
   "execution_count": 87,
   "metadata": {
    "colab": {
     "base_uri": "https://localhost:8080/"
    },
    "id": "02yBJMvc6YV5",
    "outputId": "fe5e2dc3-6554-439d-ffa8-013175f01dd0"
   },
   "outputs": [
    {
     "name": "stdout",
     "output_type": "stream",
     "text": [
      "Метод центральных прямоугольников:\n",
      "Преобразование в определённый интеграл\n",
      "Интеграл = 0.1095470048929639\n",
      "\n",
      "Метод предельного перехода\n",
      "Интеграл = 0.11015722773111694\n",
      "Количество итераций: 99101\n",
      "\n",
      "------------------------------------------------------------------------------------\n",
      "\n",
      "Метод трапеций:\n",
      "Преобразование в определённый интеграл\n",
      "Интеграл = 0.10954432216582874\n",
      "\n",
      "Метод предельного перехода\n",
      "Интеграл = 0.1101572611933085\n",
      "Количество итераций: 99101\n",
      "\n",
      "------------------------------------------------------------------------------------\n",
      "\n",
      "Метод парабол:\n",
      "Преобразование в определённый интеграл\n",
      "Интеграл = 0.10954611270815913\n",
      "\n",
      "Метод предельного перехода\n",
      "Интеграл = 0.11184423077544711\n",
      "Количество итераций: 99101\n"
     ]
    }
   ],
   "source": [
    "l = -INF\n",
    "r = -9\n",
    "h = 0.01\n",
    "eps = 1e-8\n",
    "\n",
    "CP(l, r, h, eps)"
   ]
  },
  {
   "cell_type": "code",
   "execution_count": 88,
   "metadata": {
    "colab": {
     "base_uri": "https://localhost:8080/"
    },
    "id": "qNN1SJyS6YV5",
    "outputId": "56c2f9c1-f7e0-40db-9259-a5270dad1e95"
   },
   "outputs": [
    {
     "name": "stdout",
     "output_type": "stream",
     "text": [
      "Метод центральных прямоугольников:\n",
      "Преобразование в определённый интеграл\n",
      "Интеграл = 3.0320232609183275\n",
      "\n",
      "Метод предельного перехода\n",
      "Интеграл = 2.9920847624718414\n",
      "Количество итераций: 996\n",
      "\n",
      "------------------------------------------------------------------------------------\n",
      "\n",
      "Метод трапеций:\n",
      "Преобразование в определённый интеграл\n",
      "Интеграл = 3.0320234813678235\n",
      "\n",
      "Метод предельного перехода\n",
      "Интеграл = 2.992084715665344\n",
      "Количество итераций: 996\n",
      "\n",
      "------------------------------------------------------------------------------------\n",
      "\n",
      "Метод парабол:\n",
      "Преобразование в определённый интеграл\n",
      "Интеграл = 3.035356504057397\n",
      "\n",
      "Метод предельного перехода\n",
      "Интеграл = 2.992101246771739\n",
      "Количество итераций: 996\n"
     ]
    }
   ],
   "source": [
    "l = -INF\n",
    "r = 10\n",
    "h = 0.01\n",
    "eps = 1e-4\n",
    "\n",
    "CP(l, r, h, eps)"
   ]
  },
  {
   "cell_type": "code",
   "execution_count": 89,
   "metadata": {
    "colab": {
     "base_uri": "https://localhost:8080/"
    },
    "id": "CVwNG-n_6YV5",
    "outputId": "f4b7bf1e-5a14-4743-92f6-800dd2a3d899"
   },
   "outputs": [
    {
     "name": "stdout",
     "output_type": "stream",
     "text": [
      "Метод центральных прямоугольников:\n",
      "Преобразование в определённый интеграл\n",
      "Интеграл = 3.131572902603841\n",
      "\n",
      "Метод предельного перехода\n",
      "Интеграл = 3.1100031831645705\n",
      "Количество итераций: 6324\n",
      "\n",
      "------------------------------------------------------------------------------------\n",
      "\n",
      "Метод трапеций:\n",
      "Преобразование в определённый интеграл\n",
      "Интеграл = 3.1315731525602404\n",
      "\n",
      "Метод предельного перехода\n",
      "Интеграл = 3.1100031818361846\n",
      "Количество итераций: 6324\n",
      "\n",
      "------------------------------------------------------------------------------------\n",
      "\n",
      "Метод парабол:\n",
      "Преобразование в определённый интеграл\n",
      "Интеграл = 3.1382394862722656\n",
      "\n",
      "Метод предельного перехода\n",
      "Интеграл = 3.1100031827208987\n",
      "Количество итераций: 6324\n"
     ]
    }
   ],
   "source": [
    "l = -INF\n",
    "r = INF\n",
    "h = 0.01\n",
    "eps = 1e-5\n",
    "\n",
    "CP(l, r, h, eps)"
   ]
  }
 ],
 "metadata": {
  "colab": {
   "provenance": []
  },
  "kernelspec": {
   "display_name": "venvWork",
   "language": "python",
   "name": "python3"
  },
  "language_info": {
   "codemirror_mode": {
    "name": "ipython",
    "version": 3
   },
   "file_extension": ".py",
   "mimetype": "text/x-python",
   "name": "python",
   "nbconvert_exporter": "python",
   "pygments_lexer": "ipython3",
   "version": "3.10.12"
  }
 },
 "nbformat": 4,
 "nbformat_minor": 0
}
