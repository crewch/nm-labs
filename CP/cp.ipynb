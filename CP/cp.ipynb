{
  "cells": [
    {
      "cell_type": "markdown",
      "metadata": {
        "id": "KVCCxZXP6YVz"
      },
      "source": [
        "# Курсовая работа\n",
        "## 10 вариант: Вычисление несобственных интегралов численными методами"
      ]
    },
    {
      "cell_type": "markdown",
      "metadata": {
        "id": "wbw2w1mb6YV1"
      },
      "source": [
        "### 1. Сведение к определённому интегралу\n",
        "\n",
        "$\\ \\ $Рассмотрим преобразование из математического анализа, выполненное с помощью замены переменной:\n",
        "\n",
        "$\n",
        "\\int_a^b f(x)dx = \\int_{\\frac{1}{a}}^{\\frac{1}{b}} \\frac{1}{t^2}f(\\frac{1}{t})dt \\quad при \\ ab > 0\n",
        "$<br>\n",
        "\n",
        "$\\ \\ $Можем разложить несобственный интеграл на сумму интегралов.\n",
        "\n",
        "$\n",
        "\\int_{-∞}^{+∞} f(x)dx = \\int_{-∞}^{-A} f(x)dx + \\int_{-A}^{B} f(x)dx + \\int_{B}^{+∞} f(x)dx \\quad при \\ {-A} < 0 \\ и \\ B > 0\n",
        "$<br>\n",
        "\n",
        "$\\ \\ $Первый и последний интегралы можем преобразовать с помощью формулы выше. Так мы можем посчитать каждый из этих трёх интегралов (например, методов прямоугольников) и сложить получившиеся результаты."
      ]
    },
    {
      "cell_type": "markdown",
      "metadata": {
        "id": "h2cI8fur6YV1"
      },
      "source": [
        "### 2. Предельный переход\n",
        "\n",
        "$\\ \\ $Запишем предельный переход для несобственного интеграла 1 рода:\n",
        "\n",
        "$\n",
        "\\int_a^{+∞} f(x)dx = \\lim_{b \\to \\infty} \\int_a^b f(x)dx\n",
        "$\n",
        "\n",
        "$\\ \\ $Будем вычислять правый интеграл (например, методом прямоугольников) до тех пор, пока следующее слагаемое не станет меньше заданного эпсилон"
      ]
    },
    {
      "cell_type": "code",
      "execution_count": 39,
      "metadata": {
        "id": "GNMolC1G6YV1"
      },
      "outputs": [],
      "source": [
        "import math\n",
        "import numpy as np"
      ]
    },
    {
      "cell_type": "code",
      "execution_count": 40,
      "metadata": {
        "id": "SEFUCSOl6YV2"
      },
      "outputs": [],
      "source": [
        "INF = 1e10"
      ]
    },
    {
      "cell_type": "code",
      "execution_count": 41,
      "metadata": {
        "id": "9jlOgNHs6YV2"
      },
      "outputs": [],
      "source": [
        "# Функция интегрирования\n",
        "def f(x):\n",
        "    return np.exp(-np.abs(x))"
      ]
    },
    {
      "cell_type": "code",
      "execution_count": 42,
      "metadata": {
        "id": "nVhWnWtR6YV3"
      },
      "outputs": [],
      "source": [
        "# Высчитываем интеграл f(x)dx на интервале [l; r] используя метод центральных прямоугольников с шагом=h\n",
        "def integrate_rectangle_method(f, l, r, h):\n",
        "    n = int((r - l) / h)\n",
        "    s = 0\n",
        "    for i in range(n):\n",
        "        s += h * f(l + h * (i + 0.5))\n",
        "\n",
        "    return s"
      ]
    },
    {
      "cell_type": "code",
      "execution_count": 43,
      "metadata": {
        "id": "3oKQR07M6YV3"
      },
      "outputs": [],
      "source": [
        "# Высчитываем интеграл f(x)dx на интервале [l; r] используя метод трапеций с шагом=h\n",
        "def integrate_trapezoid_method(f, l, r, h):\n",
        "    n = int((r - l) / h)\n",
        "    x = [l + i * h for i in range(n + 1)]\n",
        "    s = 0\n",
        "    for i in range(n):\n",
        "        s += h * (f(x[i]) + f(x[i + 1])) / 2\n",
        "    return s"
      ]
    },
    {
      "cell_type": "code",
      "execution_count": 44,
      "metadata": {
        "id": "wvBMaYbj6YV3"
      },
      "outputs": [],
      "source": [
        "# Высчитываем интеграл f(x)dx на интервале [l; r] используя метод парабол (формула Симпсона) с шагом=h\n",
        "def integrate_parabola_method(f, l, r, h):\n",
        "    n = int((r - l) / (h / 2) )\n",
        "\n",
        "    x = [l + i * (h / 2) for i in range(1, n)]\n",
        "\n",
        "    s1, s2 = 0, 0\n",
        "    for i in range(len(x)):\n",
        "        if i % 2:\n",
        "            s1 += f(x[i])\n",
        "        else:\n",
        "            s2 += f(x[i])\n",
        "\n",
        "    return (h / 2) / 3 * (f(l) + 2 * s1 + 4 * s2 + f(r))"
      ]
    },
    {
      "cell_type": "code",
      "execution_count": 45,
      "metadata": {
        "id": "Ycd7iP4o6YV4"
      },
      "outputs": [],
      "source": [
        "# Вычисляем несобственный интеграл (1 типа), преобразуя его в определённый интеграл\n",
        "def integrate_with_definite_integral(integration_method, f, l, r, h=0.01, eps=1e-6):\n",
        "    def f_new(t):\n",
        "        return (1. / t ** 2) * f(1. / t)\n",
        "\n",
        "    result = 0\n",
        "    if r == INF:\n",
        "        new_r = max(eps, l)\n",
        "        result += integration_method(f_new, eps, 1. / new_r - eps, h)\n",
        "    else:\n",
        "        new_r = r\n",
        "    if l == -INF:\n",
        "        new_l = min(-eps, r)\n",
        "        result += integration_method(f_new, 1. / new_l + eps, -eps, h)\n",
        "    else:\n",
        "        new_l = l\n",
        "    if new_l < new_r:\n",
        "        result += integration_method(f, new_l, new_r, h)\n",
        "    return result"
      ]
    },
    {
      "cell_type": "code",
      "execution_count": 46,
      "metadata": {
        "id": "CQrIBXy56YV4"
      },
      "outputs": [],
      "source": [
        "# Вычисляем несобственный интеграл f(x)dx (1 типа), используя предельный переход. Возвращаем: результат интегрирования и количество итераций\n",
        "def integrate_lim(integration_method, f, l, r, h=0.1, eps=1e-6):\n",
        "    result = 0\n",
        "    iters = 0\n",
        "    # Если правая граница равна бесконечности (INF), мы начинаем интегрирование с точки cur_x = max(l, 0) и\n",
        "    # продолжаем до тех пор, пока разница между текущим значением интеграла и следующим не станет меньше eps.\n",
        "    # После завершения цикла добавляем площадь правого треугольника, образованного последней точкой и конечной точкой.\n",
        "    if r == INF:\n",
        "        finish = False\n",
        "        cur_x = max(l, 0)\n",
        "        while not finish:\n",
        "            iters += 1\n",
        "            diff = integration_method(f, cur_x, cur_x + h + eps, h)\n",
        "            cur_x += h\n",
        "            if abs(diff) < eps:\n",
        "                finish = True\n",
        "            result += diff\n",
        "        result += f(cur_x - h) * (f(cur_x - h) * h / (f(cur_x - h) - f(cur_x))) # Правый треугольник\n",
        "    else:\n",
        "        result += integration_method(f, 0, r, h)\n",
        "    if l == -INF:\n",
        "        finish = False\n",
        "        cur_x = min(0, r)\n",
        "        # Если левая граница равна минус бесконечности (-INF), аналогично предыдущему шагу, но\n",
        "        # теперь идем влево от нуля до тех пор, пока разница между текущими значениями интеграла\n",
        "        # не станет достаточно малой. Затем добавляем площадь левого треугольника.\n",
        "        while not finish:\n",
        "            iters += 1\n",
        "            diff = integration_method(f, cur_x - h - eps, cur_x, h)\n",
        "            cur_x -= h\n",
        "            if abs(diff) < eps:\n",
        "                finish = True\n",
        "            result += diff\n",
        "        result += f(cur_x + h) * (f(cur_x + h) * h / (f(cur_x + h) - f(cur_x))) # Левый треугольник\n",
        "    else:\n",
        "        result += integration_method(f, l, 0, h)\n",
        "    return result, iters"
      ]
    },
    {
      "cell_type": "code",
      "execution_count": 47,
      "metadata": {
        "id": "zp4jhyw86YV4"
      },
      "outputs": [],
      "source": [
        "def CP(a, b, h, eps):\n",
        "    print('Метод центральных прямоугольников:')\n",
        "    print('Преобразование в определённый интеграл')\n",
        "    res_definite = integrate_with_definite_integral(integrate_rectangle_method, f, a, b, h, eps)\n",
        "    print('Интеграл =', res_definite)\n",
        "    print()\n",
        "    print('Метод предельного перехода')\n",
        "    res_limit, iters_limit = integrate_lim(integrate_rectangle_method, f, a, b, h, eps)\n",
        "    print('Интеграл =', res_limit)\n",
        "    print('Количество итераций:', iters_limit)\n",
        "\n",
        "    print()\n",
        "    print('------------------------------------------------------------------------------------')\n",
        "    print()\n",
        "\n",
        "    print('Метод трапеций:')\n",
        "    print('Преобразование в определённый интеграл')\n",
        "    res_definite = integrate_with_definite_integral(integrate_trapezoid_method, f, a, b, h, eps)\n",
        "    print('Интеграл =', res_definite)\n",
        "    print()\n",
        "    print('Метод предельного перехода')\n",
        "    res_limit, iters_limit = integrate_lim(integrate_trapezoid_method, f, a, b, h, eps)\n",
        "    print('Интеграл =', res_limit)\n",
        "    print('Количество итераций:', iters_limit)\n",
        "\n",
        "    print()\n",
        "    print('------------------------------------------------------------------------------------')\n",
        "    print()\n",
        "\n",
        "    print('Метод парабол:')\n",
        "    print('Преобразование в определённый интеграл')\n",
        "    res_definite = integrate_with_definite_integral(integrate_parabola_method, f, a, b, h, eps)\n",
        "    print('Интеграл =', res_definite)\n",
        "    print()\n",
        "    print('Метод предельного перехода')\n",
        "    res_limit, iters_limit = integrate_lim(integrate_parabola_method, f, a, b, h, eps)\n",
        "    print('Интеграл =', res_limit)\n",
        "    print('Количество итераций:', iters_limit)"
      ]
    },
    {
      "cell_type": "markdown",
      "metadata": {
        "id": "53DOjYdS6YV4"
      },
      "source": [
        "## Результат работы программы\n",
        "\n",
        "Будем вычислять следующий интеграл: $\\int_l^r \\frac{1}{e^|x|}$"
      ]
    },
    {
      "cell_type": "code",
      "execution_count": 48,
      "metadata": {
        "colab": {
          "base_uri": "https://localhost:8080/"
        },
        "id": "h_8HZA8U6YV4",
        "outputId": "d4305863-2cca-40c2-a5e0-2169f38301b0"
      },
      "outputs": [
        {
          "output_type": "stream",
          "name": "stdout",
          "text": [
            "Метод центральных прямоугольников:\n",
            "Преобразование в определённый интеграл\n",
            "Интеграл = 0.36418411129155914\n",
            "\n",
            "Метод предельного перехода\n",
            "Интеграл = 0.3678794051167605\n",
            "Количество итераций: 822\n",
            "\n",
            "------------------------------------------------------------------------------------\n",
            "\n",
            "Метод трапеций:\n",
            "Преобразование в определённый интеграл\n",
            "Интеграл = 0.36417946705145965\n",
            "\n",
            "Метод предельного перехода\n",
            "Интеграл = 0.3678840023622135\n",
            "Количество итераций: 822\n",
            "\n",
            "------------------------------------------------------------------------------------\n",
            "\n",
            "Метод парабол:\n",
            "Преобразование в определённый интеграл\n",
            "Интеграл = 0.36541498988285165\n",
            "\n",
            "Метод предельного перехода\n",
            "Интеграл = 0.37016067560979987\n",
            "Количество итераций: 822\n"
          ]
        }
      ],
      "source": [
        "l = 1\n",
        "r = INF\n",
        "h = 0.01\n",
        "eps = 1e-6\n",
        "\n",
        "CP(l, r, h, eps)"
      ]
    },
    {
      "cell_type": "code",
      "execution_count": 49,
      "metadata": {
        "colab": {
          "base_uri": "https://localhost:8080/"
        },
        "id": "02yBJMvc6YV5",
        "outputId": "d92b0a52-c94f-47c9-9d40-45e1766b14da"
      },
      "outputs": [
        {
          "output_type": "stream",
          "name": "stdout",
          "text": [
            "Метод центральных прямоугольников:\n",
            "Преобразование в определённый интеграл\n",
            "Интеграл = 4.389409762226072e-05\n",
            "\n",
            "Метод предельного перехода\n",
            "Интеграл = 4.54146357540127e-05\n",
            "Количество итераций: 383\n",
            "\n",
            "------------------------------------------------------------------------------------\n",
            "\n",
            "Метод трапеций:\n",
            "Преобразование в определённый интеграл\n",
            "Интеграл = 4.841792800395624e-05\n",
            "\n",
            "Метод предельного перехода\n",
            "Интеграл = 4.541519093178467e-05\n",
            "Количество итераций: 383\n",
            "\n",
            "------------------------------------------------------------------------------------\n",
            "\n",
            "Метод парабол:\n",
            "Преобразование в определённый интеграл\n",
            "Интеграл = 4.540204108282589e-05\n",
            "\n",
            "Метод предельного перехода\n",
            "Интеграл = 0.0017121571541039377\n",
            "Количество итераций: 383\n"
          ]
        }
      ],
      "source": [
        "l = -INF\n",
        "r = -10\n",
        "h = 0.01\n",
        "eps = 1e-8\n",
        "\n",
        "CP(l, r, h, eps)"
      ]
    },
    {
      "cell_type": "code",
      "execution_count": 50,
      "metadata": {
        "colab": {
          "base_uri": "https://localhost:8080/"
        },
        "id": "qNN1SJyS6YV5",
        "outputId": "6bff5fba-5c40-44a5-bbfd-de9b1ceefd62"
      },
      "outputs": [
        {
          "output_type": "stream",
          "name": "stdout",
          "text": [
            "Метод центральных прямоугольников:\n",
            "Преобразование в определённый интеграл\n",
            "Интеграл = 1.9999504386470157\n",
            "\n",
            "Метод предельного перехода\n",
            "Интеграл = 1.9999961629161738\n",
            "Количество итераций: 462\n",
            "\n",
            "------------------------------------------------------------------------------------\n",
            "\n",
            "Метод трапеций:\n",
            "Преобразование в определённый интеграл\n",
            "Интеграл = 1.9999619393034518\n",
            "\n",
            "Метод предельного перехода\n",
            "Интеграл = 2.000021037899277\n",
            "Количество итераций: 462\n",
            "\n",
            "------------------------------------------------------------------------------------\n",
            "\n",
            "Метод парабол:\n",
            "Преобразование в определённый интеграл\n",
            "Интеграл = 1.9999542721915933\n",
            "\n",
            "Метод предельного перехода\n",
            "Интеграл = 2.0000210388511688\n",
            "Количество итераций: 462\n"
          ]
        }
      ],
      "source": [
        "l = -INF\n",
        "r = 10\n",
        "h = 0.01\n",
        "eps = 1e-4\n",
        "\n",
        "CP(l, r, h, eps)"
      ]
    },
    {
      "cell_type": "code",
      "execution_count": 51,
      "metadata": {
        "colab": {
          "base_uri": "https://localhost:8080/"
        },
        "id": "CVwNG-n_6YV5",
        "outputId": "501f50bb-9ae0-48dd-cb11-847888fefe5c"
      },
      "outputs": [
        {
          "output_type": "stream",
          "name": "stdout",
          "text": [
            "Метод центральных прямоугольников:\n",
            "Преобразование в определённый интеграл\n",
            "Интеграл = 1.9999800000990708\n",
            "\n",
            "Метод предельного перехода\n",
            "Интеграл = 2.000011534811885\n",
            "Количество итераций: 1384\n",
            "\n",
            "------------------------------------------------------------------------------------\n",
            "\n",
            "Метод трапеций:\n",
            "Преобразование в определённый интеграл\n",
            "Интеграл = 1.999980000098995\n",
            "\n",
            "Метод предельного перехода\n",
            "Интеграл = 2.0000365099392248\n",
            "Количество итераций: 1384\n",
            "\n",
            "------------------------------------------------------------------------------------\n",
            "\n",
            "Метод парабол:\n",
            "Преобразование в определённый интеграл\n",
            "Интеграл = 2.00331330009951\n",
            "\n",
            "Метод предельного перехода\n",
            "Интеграл = 2.000019876504453\n",
            "Количество итераций: 1384\n"
          ]
        }
      ],
      "source": [
        "l = -INF\n",
        "r = INF\n",
        "h = 0.01\n",
        "eps = 1e-5\n",
        "\n",
        "CP(l, r, h, eps)"
      ]
    }
  ],
  "metadata": {
    "colab": {
      "provenance": []
    },
    "kernelspec": {
      "display_name": "venvWork",
      "language": "python",
      "name": "python3"
    },
    "language_info": {
      "codemirror_mode": {
        "name": "ipython",
        "version": 3
      },
      "file_extension": ".py",
      "mimetype": "text/x-python",
      "name": "python",
      "nbconvert_exporter": "python",
      "pygments_lexer": "ipython3",
      "version": "3.10.12"
    }
  },
  "nbformat": 4,
  "nbformat_minor": 0
}